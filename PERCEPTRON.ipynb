{
  "nbformat": 4,
  "nbformat_minor": 0,
  "metadata": {
    "colab": {
      "name": "PERCEPTRON.ipynb",
      "provenance": [],
      "collapsed_sections": [],
      "authorship_tag": "ABX9TyNxgylgTEH12exFSF60B62O",
      "include_colab_link": true
    },
    "kernelspec": {
      "name": "python3",
      "display_name": "Python 3"
    },
    "language_info": {
      "name": "python"
    }
  },
  "cells": [
    {
      "cell_type": "markdown",
      "metadata": {
        "id": "view-in-github",
        "colab_type": "text"
      },
      "source": [
        "<a href=\"https://colab.research.google.com/github/kritika-sharma130/AlgorithmVisualizer/blob/main/PERCEPTRON.ipynb\" target=\"_parent\"><img src=\"https://colab.research.google.com/assets/colab-badge.svg\" alt=\"Open In Colab\"/></a>"
      ]
    },
    {
      "cell_type": "markdown",
      "source": [
        "LIBRARIES FOR PERCEPTRONS"
      ],
      "metadata": {
        "id": "cVQEdAUsV7jY"
      }
    },
    {
      "cell_type": "code",
      "execution_count": 1,
      "metadata": {
        "id": "ca1cTJ55UIbX"
      },
      "outputs": [],
      "source": [
        "import pandas as pd\n",
        "import numpy as np\n",
        "from sklearn.linear_model import Perceptron\n",
        "from sklearn.metrics  import accuracy_score"
      ]
    },
    {
      "cell_type": "markdown",
      "source": [
        "GENDER CLASSIFICATION USING HEIGHT,WEIGHT AND SHOE SIZE"
      ],
      "metadata": {
        "id": "-t-wmgkgWCm6"
      }
    },
    {
      "cell_type": "code",
      "source": [
        "data=[[1.81,0.80,0.44],[1.77,0.70,0.43],[1.60,0.60,0.38],[1.54,0.54,0.37],[1.66,0.65,0.40],[1.90,0.90,0.47],[1.75,0.64,0.39],[1.77,0.70,0.40],[1.59,0.55,0.37],[1.71,0.75,0.42],[1.81,0.85,0.43]]\n",
        "results=['male','male','female','female','male','male','female','female','female','male','male']"
      ],
      "metadata": {
        "id": "NF7TL2SNWORl"
      },
      "execution_count": 5,
      "outputs": []
    },
    {
      "cell_type": "code",
      "source": [
        "per=Perceptron(alpha=0.0001, fit_intercept=True, max_iter=50, shuffle=True, verbose=0, eta0=1, n_jobs=1, random_state=10, early_stopping=False, n_iter_no_change=5, class_weight=None, warm_start=False)"
      ],
      "metadata": {
        "id": "eePHDfIGXzFH"
      },
      "execution_count": 3,
      "outputs": []
    },
    {
      "cell_type": "code",
      "source": [
        "per.fit(data,results)"
      ],
      "metadata": {
        "colab": {
          "base_uri": "https://localhost:8080/"
        },
        "id": "S-rK6UcKZcFk",
        "outputId": "772358fd-c303-4b4b-cea0-2b1cad48102c"
      },
      "execution_count": 6,
      "outputs": [
        {
          "output_type": "execute_result",
          "data": {
            "text/plain": [
              "Perceptron(eta0=1, max_iter=50, n_jobs=1, random_state=10)"
            ]
          },
          "metadata": {},
          "execution_count": 6
        }
      ]
    },
    {
      "cell_type": "code",
      "source": [
        "pred_per=per.predict(data)\n",
        "acc_per=accuracy_score(results,pred_per)*100\n",
        "print(\"accuracy is:{}%\".format(acc_per))"
      ],
      "metadata": {
        "colab": {
          "base_uri": "https://localhost:8080/"
        },
        "id": "uXQwVaqFcDFb",
        "outputId": "1df3adf5-4dcf-4211-eafe-7fdf6ed1d8e1"
      },
      "execution_count": 7,
      "outputs": [
        {
          "output_type": "stream",
          "name": "stdout",
          "text": [
            "accuracy is:81.81818181818183%\n"
          ]
        }
      ]
    },
    {
      "cell_type": "code",
      "source": [
        "prediction=per.predict([[1.55,0.59,0.38]])"
      ],
      "metadata": {
        "id": "AduyNSzJch1N"
      },
      "execution_count": 8,
      "outputs": []
    },
    {
      "cell_type": "code",
      "source": [
        "print(prediction)"
      ],
      "metadata": {
        "colab": {
          "base_uri": "https://localhost:8080/"
        },
        "id": "IAyBni9qcr1x",
        "outputId": "2124b8b5-15f1-4b58-c5c1-6b33e187ea12"
      },
      "execution_count": 9,
      "outputs": [
        {
          "output_type": "stream",
          "name": "stdout",
          "text": [
            "['female']\n"
          ]
        }
      ]
    },
    {
      "cell_type": "code",
      "source": [
        "prediction=per.predict([[1.81,0.80,0.44]])"
      ],
      "metadata": {
        "id": "ApYIXXQ4cuNj"
      },
      "execution_count": 11,
      "outputs": []
    },
    {
      "cell_type": "code",
      "source": [
        "print(prediction)"
      ],
      "metadata": {
        "colab": {
          "base_uri": "https://localhost:8080/"
        },
        "id": "eSfmhUaEfB7f",
        "outputId": "e59baefc-805a-4237-c417-d5255eec30a4"
      },
      "execution_count": 12,
      "outputs": [
        {
          "output_type": "stream",
          "name": "stdout",
          "text": [
            "['male']\n"
          ]
        }
      ]
    },
    {
      "cell_type": "markdown",
      "source": [
        "Data Set\n"
      ],
      "metadata": {
        "id": "o0XKvfhtiLSx"
      }
    },
    {
      "cell_type": "code",
      "source": [
        "data = [[ 5.1,  3.5 ],\n",
        "       [ 4.9,  3.  ],\n",
        "       [ 4.7,  3.2 ],\n",
        "       [ 4.6,  3.1 ],\n",
        "       [ 5. ,  3.6 ],\n",
        "       [ 5.4,  3.9 ],\n",
        "       [ 4.6,  3.4 ],\n",
        "       [ 5. ,  3.4],\n",
        "       [ 4.4,  2.9],\n",
        "       [ 4.9,  3.1 ],\n",
        "       [ 5.4,  3.7],\n",
        "       [ 4.8,  3.4 ],\n",
        "       [ 4.8,  3. ],\n",
        "       [ 4.3,  3.  ],\n",
        "       [ 5.8,  4.  ],\n",
        "       [ 5.7,  4.4 ],\n",
        "       [ 5.4,  3.9 ],\n",
        "       [ 5.1,  3.5 ],\n",
        "       [ 5.7,  3.8 ],\n",
        "       [ 5.1,  3.8],\n",
        "       [ 7. ,  3.2  ],\n",
        "       [ 6.4,  3.2  ],\n",
        "       [ 6.9,  3.1  ],\n",
        "       [ 5.5,  2.3   ],\n",
        "       [ 6.5,  2.8 ],\n",
        "       [ 5.7,  2.8],\n",
        "       [ 6.3,  3.3 ],\n",
        "       [ 4.9,  2.4],\n",
        "       [ 6.6,  2.9],\n",
        "       [ 5.2,  2.7 ],\n",
        "       [ 5. ,  2. ],\n",
        "       [ 5.9,  3.  ],\n",
        "       [ 6. ,  2.2],\n",
        "       [ 6.1,  2.9 ],\n",
        "       [ 5.6,  2.9],\n",
        "       [ 6.7,  3.1],\n",
        "       [ 5.6,  3. ],\n",
        "       [ 5.8,  2.7],\n",
        "       [ 6.2,  2.2],\n",
        "       [ 5.6,  2.5 ],\n",
        "       [ 5.9,  3.2 ],\n",
        "       [ 6.1,  2.8 ],\n",
        "       [ 6.3,  2.5 ],\n",
        "       [ 6.1,  2.8 ],\n",
        "       [ 6.4,  2.9 ]]\n",
        "results=[0,0,0,0,0,0,0,0,0,0,0,0,0,0,0,0,0,0,0,0,1,1,1,1,1,1,1,1,1,1,1,1,1,1,1,1,1,1,1,1,1,1,1,1,1]"
      ],
      "metadata": {
        "id": "jjGNmHRoiM-e"
      },
      "execution_count": 14,
      "outputs": []
    },
    {
      "cell_type": "code",
      "source": [
        "per=Perceptron(alpha=0.0001, fit_intercept=True, max_iter=50, shuffle=True, verbose=0, eta0=1, n_jobs=1, random_state=10, early_stopping=False, n_iter_no_change=5, class_weight=None, warm_start=False)"
      ],
      "metadata": {
        "id": "FY3YnYvGj4Jo"
      },
      "execution_count": 15,
      "outputs": []
    },
    {
      "cell_type": "code",
      "source": [
        "per.fit(data,results)"
      ],
      "metadata": {
        "colab": {
          "base_uri": "https://localhost:8080/"
        },
        "id": "e9j56eykj_6v",
        "outputId": "7081938e-a7ae-4837-abd9-1d5aecd65cb8"
      },
      "execution_count": 16,
      "outputs": [
        {
          "output_type": "execute_result",
          "data": {
            "text/plain": [
              "Perceptron(eta0=1, max_iter=50, n_jobs=1, random_state=10)"
            ]
          },
          "metadata": {},
          "execution_count": 16
        }
      ]
    },
    {
      "cell_type": "code",
      "source": [
        "pred_per=per.predict(data)\n",
        "acc_per=accuracy_score(results,pred_per)*100\n",
        "print(\"accuracy is:{}%\".format(acc_per))"
      ],
      "metadata": {
        "colab": {
          "base_uri": "https://localhost:8080/"
        },
        "id": "ph3wYg-akEAV",
        "outputId": "d6c59927-53c9-4164-d768-82173407910f"
      },
      "execution_count": 17,
      "outputs": [
        {
          "output_type": "stream",
          "name": "stdout",
          "text": [
            "accuracy is:100.0%\n"
          ]
        }
      ]
    },
    {
      "cell_type": "code",
      "source": [
        "prediction=per.predict([[6.1,2.8]])"
      ],
      "metadata": {
        "id": "tnynJDexkH2l"
      },
      "execution_count": 18,
      "outputs": []
    },
    {
      "cell_type": "code",
      "source": [
        "print(prediction)"
      ],
      "metadata": {
        "colab": {
          "base_uri": "https://localhost:8080/"
        },
        "id": "Y3ThnasSkRRl",
        "outputId": "3584edb5-8e13-4823-b0b6-cd10ff2bbb7c"
      },
      "execution_count": 19,
      "outputs": [
        {
          "output_type": "stream",
          "name": "stdout",
          "text": [
            "[1]\n"
          ]
        }
      ]
    },
    {
      "cell_type": "code",
      "source": [
        ""
      ],
      "metadata": {
        "id": "BPIZmUxPkTRG"
      },
      "execution_count": null,
      "outputs": []
    }
  ]
}